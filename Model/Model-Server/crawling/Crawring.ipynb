{
 "cells": [
  {
   "cell_type": "code",
   "execution_count": 30,
   "metadata": {},
   "outputs": [],
   "source": [
    "import requests\n",
    "from bs4 import BeautifulSoup\n",
    "\n",
    "user_id = '323213'\n",
    "\n",
    "headers = {'User-Agent': \"Mediapartners-Google\"}\n",
    "\n",
    "url = f'https://www.acmicpc.net/status?problem_id=&user_id={user_id}&language_id=-1&result_id=4'\n",
    "\n",
    "response = requests.request(\"GET\", url, headers=headers)"
   ]
  },
  {
   "cell_type": "code",
   "execution_count": 31,
   "metadata": {},
   "outputs": [
    {
     "data": {
      "text/plain": [
       "[]"
      ]
     },
     "execution_count": 31,
     "metadata": {},
     "output_type": "execute_result"
    }
   ],
   "source": [
    "soup = BeautifulSoup(response.text, 'html.parser')\n",
    "\n",
    "user_seq = [problem.text for problem in soup.select('td:nth-child(3) > a')]\n",
    "if not user_seq:\n",
    "    user_seq = []\n",
    "else:\n",
    "    user_seq = sorted(set(user_seq), key = lambda x: user_seq.index(x))[::-1]\n",
    "\n",
    "# 빈 리스드면 최근 문제가 존재하지 않는 유저"
   ]
  },
  {
   "cell_type": "code",
   "execution_count": 2,
   "metadata": {},
   "outputs": [],
   "source": [
    "import requests\n",
    "from bs4 import BeautifulSoup\n",
    "\n",
    "user_id = 'nougatbar'\n",
    "\n",
    "headers = {'User-Agent': \"Mediapartners-Google\"}\n",
    "\n",
    "url = f'https://www.acmicpc.net/user/{user_id}'\n",
    "\n",
    "response = requests.request(\"GET\", url, headers=headers)"
   ]
  },
  {
   "cell_type": "code",
   "execution_count": 3,
   "metadata": {},
   "outputs": [],
   "source": [
    "soup = BeautifulSoup(response.text, 'html.parser')\n",
    "user_seq = soup.find('div', {'class':'problem-list'}).text.split()"
   ]
  },
  {
   "cell_type": "code",
   "execution_count": 20,
   "metadata": {},
   "outputs": [],
   "source": [
    "if response.status_code == 404:\n",
    "    user_seq = []\n",
    "else:\n",
    "    soup = BeautifulSoup(response.text, 'html.parser')\n",
    "    user_seq = [problem.text for problem in soup.select('body > div.wrapper > div.container.content > div.row > div:nth-child(2) > div > div.col-md-9 > div:nth-child(2) > div.panel-body > div > a')]\n",
    "\n",
    "    # 빈 리스드면 지금 까지 맞은 문제가 존재하지 않는 유저 or 아이디가 존재하지 않는 유저"
   ]
  }
 ],
 "metadata": {
  "interpreter": {
   "hash": "d4d1e4263499bec80672ea0156c357c1ee493ec2b1c70f0acce89fc37c4a6abe"
  },
  "kernelspec": {
   "display_name": "Python 3.8.5 ('base')",
   "language": "python",
   "name": "python3"
  },
  "language_info": {
   "codemirror_mode": {
    "name": "ipython",
    "version": 3
   },
   "file_extension": ".py",
   "mimetype": "text/x-python",
   "name": "python",
   "nbconvert_exporter": "python",
   "pygments_lexer": "ipython3",
   "version": "3.8.5"
  },
  "orig_nbformat": 4,
  "vscode": {
   "interpreter": {
    "hash": "d4d1e4263499bec80672ea0156c357c1ee493ec2b1c70f0acce89fc37c4a6abe"
   }
  }
 },
 "nbformat": 4,
 "nbformat_minor": 2
}
