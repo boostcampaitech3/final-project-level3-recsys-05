{
 "cells": [
  {
   "cell_type": "code",
   "execution_count": 1,
   "metadata": {},
   "outputs": [],
   "source": [
    "import os\n",
    "import numpy as np\n",
    "import pandas as pd\n",
    "\n",
    "DATA_PATH = '/opt/ml/final-project-level3-recsys-05/Model/Model-Experiment/data'\n",
    "VAL_TO_IDX_DATA_PATH = '/opt/ml/final-project-level3-recsys-05/Model/Model-Server/data'"
   ]
  },
  {
   "cell_type": "code",
   "execution_count": 2,
   "metadata": {},
   "outputs": [],
   "source": [
    "problem_df = pd.read_csv(os.path.join(DATA_PATH, 'problem.csv'))\n",
    "problem_df['problem_id'] = problem_df['problem_id'].astype(str)"
   ]
  },
  {
   "cell_type": "code",
   "execution_count": 3,
   "metadata": {},
   "outputs": [
    {
     "data": {
      "text/plain": [
       "186"
      ]
     },
     "execution_count": 3,
     "metadata": {},
     "output_type": "execute_result"
    }
   ],
   "source": [
    "# tag로 seq 제작\n",
    "\n",
    "problem_tag_seq_list = []\n",
    "\n",
    "tag_list = []\n",
    "\n",
    "def get_preprocessing_tags(tags):\n",
    "    global tag_list\n",
    "    tags = eval(tags)\n",
    "    _tags = []\n",
    "    if tags:\n",
    "        for tag in tags:\n",
    "            for t in tag['displayNames']:\n",
    "                if t['language'] == 'ko':\n",
    "                    _tags.append(t['name'])\n",
    "        tag_list += _tags\n",
    "    return _tags\n",
    "\n",
    "problem_df['preprocessing_tags'] = problem_df['problem_tags'].apply(lambda x : get_preprocessing_tags(x))\n",
    "tag_list = list(set(tag_list))\n",
    "len(tag_list)"
   ]
  },
  {
   "cell_type": "code",
   "execution_count": 4,
   "metadata": {},
   "outputs": [],
   "source": [
    "# TODO : problem_id_to_tags\n",
    "\n",
    "problem_id_to_tags = {}\n",
    "\n",
    "for df in problem_df.iloc:\n",
    "    problem_id_to_tags[df['problem_id']] = df['preprocessing_tags']"
   ]
  },
  {
   "cell_type": "code",
   "execution_count": 5,
   "metadata": {},
   "outputs": [],
   "source": [
    "# TODO : tag_to_idx\n",
    "# TODO : idx_to_tag\n",
    "\n",
    "tag_to_idx = {}\n",
    "idx_to_tag = {}\n",
    "for idx, tag in enumerate(tag_list):\n",
    "    tag_to_idx[tag] = str(idx)\n",
    "    idx_to_tag[str(idx)] = tag"
   ]
  },
  {
   "cell_type": "code",
   "execution_count": 6,
   "metadata": {},
   "outputs": [],
   "source": [
    "import json\n",
    "\n",
    "with open(os.path.join(VAL_TO_IDX_DATA_PATH, 'problem_id_to_tags.json'), \"w\") as json_file:\n",
    "    json.dump(problem_id_to_tags, json_file)\n",
    "\n",
    "with open(os.path.join(VAL_TO_IDX_DATA_PATH, 'tag_to_idx.json'), \"w\") as json_file:\n",
    "    json.dump(tag_to_idx, json_file)\n",
    "\n",
    "with open(os.path.join(VAL_TO_IDX_DATA_PATH, 'idx_to_tag.json'), \"w\") as json_file:\n",
    "    json.dump(idx_to_tag, json_file)"
   ]
  },
  {
   "cell_type": "code",
   "execution_count": 7,
   "metadata": {},
   "outputs": [
    {
     "data": {
      "text/plain": [
       "array([  0, 118, 119, 120, 121, 122, 123, 124, 125, 126, 127, 128, 129,\n",
       "       130, 131, 132, 133, 134, 135, 136, 117, 137, 116, 114,  95,  96,\n",
       "        97,  98,  99, 100, 101, 102, 103, 104, 105, 106, 107, 108, 109,\n",
       "       110, 111, 112, 113, 115, 138, 139, 140, 165, 166, 167, 168, 169,\n",
       "       170, 171, 172, 173, 174, 175, 176, 177, 178, 179, 180, 181, 182,\n",
       "       183, 164, 163, 162, 161, 141, 142, 143, 144, 145, 146, 147, 148,\n",
       "       149,  94, 150, 152, 153, 154, 155, 156, 157, 158, 159, 160, 151,\n",
       "        93,  92,  91,  28,  29,  30,  31,  32,  33,  34,  35,  27,  36,\n",
       "        38,  39,  40,  41,  42,  43,  44, 184,  37,  46,  26,  24,   6,\n",
       "         7,   8,   9,  10,  11,  12,  13,  25,  14,  16,  17,  18,  19,\n",
       "        20,  21,  22,  23,  15,  47,  45,  49,  48,  74,  75,  76,  77,\n",
       "        78,  79,  80,  72,  81,  83,  84,  85,  86,  87,  88,  89,  90,\n",
       "        82,  71,  73,  69,  50,  51,  52,  53,  54,  55,  70,  57,  58,\n",
       "        56,  60,  61,  62,  63,  64,  65,  66,  67,  68,  59, 185,   5,\n",
       "         4,   3,   2,   1])"
      ]
     },
     "execution_count": 7,
     "metadata": {},
     "output_type": "execute_result"
    }
   ],
   "source": [
    "# TODO : cnt_mat\n",
    "\n",
    "tag_cnt_mat = np.zeros((len(tag_to_idx),))\n",
    "tag_cnt_mat[[1, 2, 3, 4, 5]] += 1 \n",
    "tag_cnt_mat.argsort()"
   ]
  },
  {
   "cell_type": "code",
   "execution_count": 10,
   "metadata": {},
   "outputs": [],
   "source": [
    "import requests\n",
    "\n",
    "url = 'http://101.101.218.250:30005/test/'\n",
    "\n",
    "data = {\n",
    "    'key' : 123456,\n",
    "    'username' : '2712qwer',\n",
    "}\n",
    "\n",
    "res = requests.post(url, json = data)\n",
    "res = res.json()"
   ]
  },
  {
   "cell_type": "code",
   "execution_count": 11,
   "metadata": {},
   "outputs": [
    {
     "data": {
      "text/plain": [
       "{'model': {'item2vec': ['8598',\n",
       "   '10917',\n",
       "   '6146',\n",
       "   '5975',\n",
       "   '6601',\n",
       "   '14496',\n",
       "   '13903',\n",
       "   '6118',\n",
       "   '15558',\n",
       "   '7562'],\n",
       "  'user_seq': ['5931',\n",
       "   '16928',\n",
       "   '13424',\n",
       "   '4650',\n",
       "   '5921',\n",
       "   '6156',\n",
       "   '4386',\n",
       "   '1457',\n",
       "   '2146',\n",
       "   '17129'],\n",
       "  'pretrained_user_seq': ['13424',\n",
       "   '1038',\n",
       "   '2623',\n",
       "   '2026',\n",
       "   '1469',\n",
       "   '12851',\n",
       "   '3967',\n",
       "   '12969',\n",
       "   '1068',\n",
       "   '2636'],\n",
       "  'ease': ['15652',\n",
       "   '2447',\n",
       "   '1012',\n",
       "   '18870',\n",
       "   '1966',\n",
       "   '11866',\n",
       "   '1149',\n",
       "   '2156',\n",
       "   '10824',\n",
       "   '2609']},\n",
       " 'tag': {'lately_preference_tags': ['그래프 이론', '그래프 탐색', '너비 우선 탐색'],\n",
       "  'total_preference_tags': ['구현', '수학', '사칙연산']},\n",
       " 'rank': {}}"
      ]
     },
     "execution_count": 11,
     "metadata": {},
     "output_type": "execute_result"
    }
   ],
   "source": [
    "res"
   ]
  },
  {
   "cell_type": "code",
   "execution_count": null,
   "metadata": {},
   "outputs": [],
   "source": []
  }
 ],
 "metadata": {
  "interpreter": {
   "hash": "d4d1e4263499bec80672ea0156c357c1ee493ec2b1c70f0acce89fc37c4a6abe"
  },
  "kernelspec": {
   "display_name": "Python 3.8.5 ('base')",
   "language": "python",
   "name": "python3"
  },
  "language_info": {
   "codemirror_mode": {
    "name": "ipython",
    "version": 3
   },
   "file_extension": ".py",
   "mimetype": "text/x-python",
   "name": "python",
   "nbconvert_exporter": "python",
   "pygments_lexer": "ipython3",
   "version": "3.8.5"
  },
  "orig_nbformat": 4
 },
 "nbformat": 4,
 "nbformat_minor": 2
}
