{
 "cells": [
  {
   "cell_type": "code",
   "execution_count": 1,
   "metadata": {},
   "outputs": [],
   "source": [
    "import os\n",
    "import numpy as np\n",
    "import pandas as pd\n",
    "\n",
    "DATA_PATH = '/opt/ml/final-project-level3-recsys-05/Model/Model-Experiment/data'\n",
    "VAL_TO_IDX_DATA_PATH = '/opt/ml/final-project-level3-recsys-05/Model/Model-Server/data'"
   ]
  },
  {
   "cell_type": "code",
   "execution_count": 2,
   "metadata": {},
   "outputs": [],
   "source": [
    "problem_df = pd.read_csv(os.path.join(DATA_PATH, 'problem.csv'))\n",
    "problem_df['problem_id'] = problem_df['problem_id'].astype(str)"
   ]
  },
  {
   "cell_type": "code",
   "execution_count": 9,
   "metadata": {},
   "outputs": [],
   "source": [
    "# TODO : problem_id_to_level\n",
    "\n",
    "problem_id_to_level = {}\n",
    "\n",
    "for df in problem_df.iloc:\n",
    "    problem_id_to_level[df['problem_id']] = int(df['level'])"
   ]
  },
  {
   "cell_type": "code",
   "execution_count": 10,
   "metadata": {},
   "outputs": [],
   "source": [
    "import json\n",
    "\n",
    "with open(os.path.join(VAL_TO_IDX_DATA_PATH, 'problem_id_to_level.json'), \"w\") as json_file:\n",
    "    json.dump(problem_id_to_level, json_file)"
   ]
  },
  {
   "cell_type": "code",
   "execution_count": 13,
   "metadata": {},
   "outputs": [
    {
     "data": {
      "text/plain": [
       "4.5"
      ]
     },
     "execution_count": 13,
     "metadata": {},
     "output_type": "execute_result"
    }
   ],
   "source": [
    "np.quantile([1, 2, 3, 4, 5, 6], q = 0.7)"
   ]
  },
  {
   "cell_type": "code",
   "execution_count": 17,
   "metadata": {},
   "outputs": [
    {
     "data": {
      "text/plain": [
       "2"
      ]
     },
     "execution_count": 17,
     "metadata": {},
     "output_type": "execute_result"
    }
   ],
   "source": [
    "max(2, 1)"
   ]
  },
  {
   "cell_type": "code",
   "execution_count": 18,
   "metadata": {},
   "outputs": [],
   "source": [
    "import requests\n",
    "\n",
    "url = 'http://101.101.218.250:30005/test/'\n",
    "\n",
    "data = {\n",
    "    'key' : 123456,\n",
    "    'username' : '2712qwer',\n",
    "}\n",
    "\n",
    "res = requests.post(url, json = data)\n",
    "res = res.json()"
   ]
  },
  {
   "cell_type": "code",
   "execution_count": 19,
   "metadata": {},
   "outputs": [
    {
     "data": {
      "text/plain": [
       "{'model': {'pretrained_user_seq_and_ease': ['13549',\n",
       "   '13913',\n",
       "   '1806',\n",
       "   '2252',\n",
       "   '2638',\n",
       "   '1062',\n",
       "   '2589',\n",
       "   '1766',\n",
       "   '2668',\n",
       "   '5557'],\n",
       "  'user_seq': ['5931',\n",
       "   '16928',\n",
       "   '13424',\n",
       "   '4650',\n",
       "   '5921',\n",
       "   '6156',\n",
       "   '4386',\n",
       "   '1457',\n",
       "   '2146',\n",
       "   '17129'],\n",
       "  'pretrained_user_seq': ['13424',\n",
       "   '1038',\n",
       "   '2623',\n",
       "   '2026',\n",
       "   '1469',\n",
       "   '12851',\n",
       "   '3967',\n",
       "   '12969',\n",
       "   '1068',\n",
       "   '2636'],\n",
       "  'multi_modal_user_seq': ['23631',\n",
       "   '2916',\n",
       "   '12869',\n",
       "   '5972',\n",
       "   '13700',\n",
       "   '12969',\n",
       "   '2479',\n",
       "   '1245',\n",
       "   '21738',\n",
       "   '17259'],\n",
       "  'ease': ['15652',\n",
       "   '2447',\n",
       "   '1012',\n",
       "   '18870',\n",
       "   '1966',\n",
       "   '11866',\n",
       "   '1149',\n",
       "   '2156',\n",
       "   '10824',\n",
       "   '2609']},\n",
       " 'tag': {'lately_preference_tags': ['그래프 이론', '그래프 탐색', '너비 우선 탐색'],\n",
       "  'total_preference_tags': ['구현', '수학', '사칙연산']},\n",
       " 'rank': 'Silver II'}"
      ]
     },
     "execution_count": 19,
     "metadata": {},
     "output_type": "execute_result"
    }
   ],
   "source": [
    "res"
   ]
  },
  {
   "cell_type": "code",
   "execution_count": null,
   "metadata": {},
   "outputs": [],
   "source": []
  }
 ],
 "metadata": {
  "interpreter": {
   "hash": "d4d1e4263499bec80672ea0156c357c1ee493ec2b1c70f0acce89fc37c4a6abe"
  },
  "kernelspec": {
   "display_name": "Python 3.8.5 ('base')",
   "language": "python",
   "name": "python3"
  },
  "language_info": {
   "codemirror_mode": {
    "name": "ipython",
    "version": 3
   },
   "file_extension": ".py",
   "mimetype": "text/x-python",
   "name": "python",
   "nbconvert_exporter": "python",
   "pygments_lexer": "ipython3",
   "version": "3.8.5"
  },
  "orig_nbformat": 4
 },
 "nbformat": 4,
 "nbformat_minor": 2
}
