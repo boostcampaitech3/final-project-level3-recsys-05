{
 "cells": [
  {
   "cell_type": "code",
   "execution_count": 1,
   "metadata": {},
   "outputs": [],
   "source": [
    "import os\n",
    "import pandas as pd\n",
    "\n",
    "DATA_PATH = '/opt/ml/final-project-level3-recsys-05/Model/Model-Experiment/data'\n",
    "VAL_TO_IDX_DATA_PATH = '/opt/ml/final-project-level3-recsys-05/Model/Model-Server/data'"
   ]
  },
  {
   "cell_type": "code",
   "execution_count": 2,
   "metadata": {},
   "outputs": [],
   "source": [
    "problem_df = pd.read_csv(os.path.join(DATA_PATH, 'clean_problem.csv'))\n",
    "problem_df['problem_id'] = problem_df['problem_id'].astype(str)"
   ]
  },
  {
   "cell_type": "code",
   "execution_count": 3,
   "metadata": {},
   "outputs": [],
   "source": [
    "problem_id_list = problem_df['problem_id'].unique().tolist()\n",
    "\n",
    "problem_id_to_idx = {}\n",
    "idx_to_problem_id = {}\n",
    "\n",
    "for idx, problem_id in enumerate(problem_id_list):\n",
    "    problem_id_to_idx[problem_id] = str(idx)\n",
    "    idx_to_problem_id[str(idx)] = problem_id"
   ]
  },
  {
   "cell_type": "code",
   "execution_count": 4,
   "metadata": {},
   "outputs": [],
   "source": [
    "import json\n",
    "\n",
    "with open(os.path.join(VAL_TO_IDX_DATA_PATH, \"clean_problem_id_to_idx.json\"), \"w\") as json_file:\n",
    "    json.dump(problem_id_to_idx, json_file)\n",
    "\n",
    "with open(os.path.join(VAL_TO_IDX_DATA_PATH, \"clean_idx_to_problem_id.json\"), \"w\") as json_file:\n",
    "    json.dump(idx_to_problem_id, json_file)"
   ]
  },
  {
   "cell_type": "code",
   "execution_count": null,
   "metadata": {},
   "outputs": [],
   "source": []
  }
 ],
 "metadata": {
  "interpreter": {
   "hash": "d4d1e4263499bec80672ea0156c357c1ee493ec2b1c70f0acce89fc37c4a6abe"
  },
  "kernelspec": {
   "display_name": "Python 3.8.5 ('base')",
   "language": "python",
   "name": "python3"
  },
  "language_info": {
   "codemirror_mode": {
    "name": "ipython",
    "version": 3
   },
   "file_extension": ".py",
   "mimetype": "text/x-python",
   "name": "python",
   "nbconvert_exporter": "python",
   "pygments_lexer": "ipython3",
   "version": "3.8.5"
  },
  "orig_nbformat": 4
 },
 "nbformat": 4,
 "nbformat_minor": 2
}
