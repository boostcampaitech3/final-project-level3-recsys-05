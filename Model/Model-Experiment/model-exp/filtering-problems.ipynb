{
 "cells": [
  {
   "cell_type": "code",
   "execution_count": 2,
   "metadata": {},
   "outputs": [
    {
     "data": {
      "text/plain": [
       "'\\n\\n- target 에 없는 문제 제거 (== 0번 이하 푼 문제)\\n- 루비 이상 문제 제거\\n- 언랭크드 문제 제거\\n- 한국어가 아닌 문제 제거\\n\\n'"
      ]
     },
     "execution_count": 2,
     "metadata": {},
     "output_type": "execute_result"
    }
   ],
   "source": [
    "import os\n",
    "import pandas as pd\n",
    "\n",
    "import warnings\n",
    "\n",
    "warnings.filterwarnings(action='ignore')\n",
    "\n",
    "DATA_PATH = '/opt/ml/final-project-level3-recsys-05/Model/Model-Experiment/data'\n",
    "VAL_TO_IDX_DATA_PATH = '/opt/ml/final-project-level3-recsys-05/Model/Model-Server/data'\n",
    "\n",
    "'''\n",
    "\n",
    "- target 에 없는 문제 제거 (== 0번 이하 푼 문제)\n",
    "- 루비 이상 문제 제거\n",
    "- 언랭크드 문제 제거\n",
    "- 한국어가 아닌 문제 제거\n",
    "\n",
    "'''"
   ]
  },
  {
   "cell_type": "code",
   "execution_count": 3,
   "metadata": {},
   "outputs": [],
   "source": [
    "problem_df = pd.read_csv(os.path.join(DATA_PATH, 'problem.csv'))\n",
    "problem_df['problem_id'] = problem_df['problem_id'].astype(int).astype(str)\n",
    "\n",
    "score_df = pd.read_csv(os.path.join(DATA_PATH, 'score.csv'))\n",
    "score_df = score_df[~(score_df['problem_id'].isna())].reset_index(drop = True)\n",
    "score_df = score_df[~(score_df['user_name'].isna())].reset_index(drop = True)\n",
    "score_df['problem_id'] = score_df['problem_id'].astype(int).astype(str)\n",
    "score_df['target'] = score_df['target'].astype(int).astype(str)"
   ]
  },
  {
   "cell_type": "code",
   "execution_count": 4,
   "metadata": {},
   "outputs": [
    {
     "data": {
      "text/plain": [
       "23090"
      ]
     },
     "execution_count": 4,
     "metadata": {},
     "output_type": "execute_result"
    }
   ],
   "source": [
    "len(problem_df)"
   ]
  },
  {
   "cell_type": "code",
   "execution_count": 5,
   "metadata": {},
   "outputs": [],
   "source": [
    "# TODO: target 에 없는 문제 제거 (== 0번 이하 푼 문제)\n",
    "\n",
    "in_target_problem_df = problem_df.set_index('problem_id').loc[score_df['target'].unique().tolist(), :].reset_index(drop = False)"
   ]
  },
  {
   "cell_type": "code",
   "execution_count": 6,
   "metadata": {},
   "outputs": [
    {
     "data": {
      "text/plain": [
       "True"
      ]
     },
     "execution_count": 6,
     "metadata": {},
     "output_type": "execute_result"
    }
   ],
   "source": [
    "len(in_target_problem_df) == score_df['target'].nunique()"
   ]
  },
  {
   "cell_type": "code",
   "execution_count": 7,
   "metadata": {},
   "outputs": [
    {
     "data": {
      "text/plain": [
       "3326"
      ]
     },
     "execution_count": 7,
     "metadata": {},
     "output_type": "execute_result"
    }
   ],
   "source": [
    "len(problem_df) - len(in_target_problem_df)"
   ]
  },
  {
   "cell_type": "code",
   "execution_count": 8,
   "metadata": {},
   "outputs": [
    {
     "data": {
      "text/plain": [
       "19764"
      ]
     },
     "execution_count": 8,
     "metadata": {},
     "output_type": "execute_result"
    }
   ],
   "source": [
    "len(in_target_problem_df)"
   ]
  },
  {
   "cell_type": "code",
   "execution_count": 9,
   "metadata": {},
   "outputs": [],
   "source": [
    "# TODO: 루비 이상 문제 제거\n",
    "\n",
    "'''\n",
    "{\n",
    "0\t:\"Unrated\",\n",
    "1\t:\"Bronze V\",\n",
    "2\t:\"Bronze IV\",\n",
    "3\t:\"Bronze III\",\n",
    "4\t:\"Bronze II\",\n",
    "5\t:\"Bronze I\",\n",
    "6\t:\"Silver V\",\n",
    "7\t:\"Silver IV\",\n",
    "8\t:\"Silver III\",\n",
    "9\t:\"Silver II\",\n",
    "10\t:\"Silver I\",\n",
    "11\t:\"Gold V\",\n",
    "12\t:\"Gold IV\",\n",
    "13\t:\"Gold III\",\n",
    "14\t:\"Gold II\",\n",
    "15\t:\"Gold I\",\n",
    "16\t:\"Platinum V\",\n",
    "17\t:\"Platinum IV\",\n",
    "18\t:\"Platinum III\",\n",
    "19\t:\"Platinum II\",\n",
    "20\t:\"Platinum I\",\n",
    "21\t:\"Diamond V\",\n",
    "22\t:\"Diamond IV\",\n",
    "23\t:\"Diamond III\",\n",
    "24\t:\"Diamond II\",\n",
    "25\t:\"Diamond I\",\n",
    "26\t:\"Ruby V\",\n",
    "27\t:\"Ruby IV\",\n",
    "28\t:\"Ruby III\",\n",
    "29\t:\"Ruby II\",\n",
    "30\t:\"Ruby I\",\n",
    "}\n",
    "\n",
    "'''\n",
    "\n",
    "non_ruby_problem_df = in_target_problem_df[in_target_problem_df['level'] <= 25].reset_index(drop = True)"
   ]
  },
  {
   "cell_type": "code",
   "execution_count": 10,
   "metadata": {},
   "outputs": [
    {
     "data": {
      "text/plain": [
       "419"
      ]
     },
     "execution_count": 10,
     "metadata": {},
     "output_type": "execute_result"
    }
   ],
   "source": [
    "len(in_target_problem_df) - len(non_ruby_problem_df)"
   ]
  },
  {
   "cell_type": "code",
   "execution_count": 11,
   "metadata": {},
   "outputs": [
    {
     "data": {
      "text/plain": [
       "19345"
      ]
     },
     "execution_count": 11,
     "metadata": {},
     "output_type": "execute_result"
    }
   ],
   "source": [
    "len(non_ruby_problem_df)"
   ]
  },
  {
   "cell_type": "code",
   "execution_count": 12,
   "metadata": {},
   "outputs": [],
   "source": [
    "# TODO: 언랭크드 문제 제거\n",
    "\n",
    "non_unrated_problem_df = non_ruby_problem_df[non_ruby_problem_df['level'] != 0].reset_index(drop = True)"
   ]
  },
  {
   "cell_type": "code",
   "execution_count": 13,
   "metadata": {},
   "outputs": [
    {
     "data": {
      "text/plain": [
       "4687"
      ]
     },
     "execution_count": 13,
     "metadata": {},
     "output_type": "execute_result"
    }
   ],
   "source": [
    "len(non_ruby_problem_df) - len(non_unrated_problem_df)"
   ]
  },
  {
   "cell_type": "code",
   "execution_count": 14,
   "metadata": {},
   "outputs": [
    {
     "data": {
      "text/plain": [
       "14658"
      ]
     },
     "execution_count": 14,
     "metadata": {},
     "output_type": "execute_result"
    }
   ],
   "source": [
    "len(non_unrated_problem_df)"
   ]
  },
  {
   "cell_type": "code",
   "execution_count": 22,
   "metadata": {},
   "outputs": [],
   "source": [
    "# TODO: 한국어가 아닌 문제 제거\n",
    "import re\n",
    "\n",
    "def serch_korean(x):\n",
    "    if re.search(r\"[가-힣]\", x): return True\n",
    "    else: return False\n",
    "\n",
    "korean_problem_df = non_unrated_problem_df[non_unrated_problem_df['problem_description'].apply(lambda x : serch_korean(x))].reset_index(drop = True)"
   ]
  },
  {
   "cell_type": "code",
   "execution_count": 23,
   "metadata": {},
   "outputs": [
    {
     "data": {
      "text/plain": [
       "7792"
      ]
     },
     "execution_count": 23,
     "metadata": {},
     "output_type": "execute_result"
    }
   ],
   "source": [
    "len(non_unrated_problem_df) - len(korean_problem_df)"
   ]
  },
  {
   "cell_type": "code",
   "execution_count": 24,
   "metadata": {},
   "outputs": [
    {
     "data": {
      "text/plain": [
       "16224"
      ]
     },
     "execution_count": 24,
     "metadata": {},
     "output_type": "execute_result"
    }
   ],
   "source": [
    "len(problem_df) - len(korean_problem_df)"
   ]
  },
  {
   "cell_type": "code",
   "execution_count": 25,
   "metadata": {},
   "outputs": [
    {
     "data": {
      "text/plain": [
       "6866"
      ]
     },
     "execution_count": 25,
     "metadata": {},
     "output_type": "execute_result"
    }
   ],
   "source": [
    "len(korean_problem_df)"
   ]
  },
  {
   "cell_type": "code",
   "execution_count": 26,
   "metadata": {},
   "outputs": [],
   "source": [
    "score_df['key'] = score_df['user_name'] + '-' + score_df['target']\n",
    "\n",
    "\n",
    "in_problem_df_target_score_df = score_df.set_index('target').loc[korean_problem_df['problem_id'].tolist(), :].reset_index(drop = False).sort_values(['key', 'date']).reset_index(drop = True)"
   ]
  },
  {
   "cell_type": "code",
   "execution_count": 27,
   "metadata": {},
   "outputs": [
    {
     "data": {
      "text/plain": [
       "2492363"
      ]
     },
     "execution_count": 27,
     "metadata": {},
     "output_type": "execute_result"
    }
   ],
   "source": [
    "len(score_df) - len(in_problem_df_target_score_df)"
   ]
  },
  {
   "cell_type": "code",
   "execution_count": 28,
   "metadata": {},
   "outputs": [
    {
     "data": {
      "text/plain": [
       "True"
      ]
     },
     "execution_count": 28,
     "metadata": {},
     "output_type": "execute_result"
    }
   ],
   "source": [
    "in_problem_df_target_score_df['target'].nunique() == len(korean_problem_df)"
   ]
  },
  {
   "cell_type": "code",
   "execution_count": 29,
   "metadata": {},
   "outputs": [],
   "source": [
    "in_problem_df_problem_id_score_df = in_problem_df_target_score_df.set_index('problem_id').loc[korean_problem_df['problem_id'].tolist(), :].reset_index(drop = False).sort_values(['key', 'date']).reset_index(drop = True)"
   ]
  },
  {
   "cell_type": "code",
   "execution_count": 30,
   "metadata": {},
   "outputs": [
    {
     "data": {
      "text/plain": [
       "264882"
      ]
     },
     "execution_count": 30,
     "metadata": {},
     "output_type": "execute_result"
    }
   ],
   "source": [
    "len(in_problem_df_target_score_df) - len(in_problem_df_problem_id_score_df)"
   ]
  },
  {
   "cell_type": "code",
   "execution_count": 31,
   "metadata": {},
   "outputs": [
    {
     "data": {
      "text/plain": [
       "2757245"
      ]
     },
     "execution_count": 31,
     "metadata": {},
     "output_type": "execute_result"
    }
   ],
   "source": [
    "len(score_df) - len(in_problem_df_problem_id_score_df)"
   ]
  },
  {
   "cell_type": "code",
   "execution_count": 33,
   "metadata": {},
   "outputs": [
    {
     "data": {
      "text/html": [
       "<div>\n",
       "<style scoped>\n",
       "    .dataframe tbody tr th:only-of-type {\n",
       "        vertical-align: middle;\n",
       "    }\n",
       "\n",
       "    .dataframe tbody tr th {\n",
       "        vertical-align: top;\n",
       "    }\n",
       "\n",
       "    .dataframe thead th {\n",
       "        text-align: right;\n",
       "    }\n",
       "</style>\n",
       "<table border=\"1\" class=\"dataframe\">\n",
       "  <thead>\n",
       "    <tr style=\"text-align: right;\">\n",
       "      <th></th>\n",
       "      <th>target</th>\n",
       "      <th>score_id</th>\n",
       "      <th>user_name</th>\n",
       "      <th>problem_id</th>\n",
       "      <th>answer</th>\n",
       "      <th>memory</th>\n",
       "      <th>time</th>\n",
       "      <th>language</th>\n",
       "      <th>length</th>\n",
       "      <th>date</th>\n",
       "      <th>key</th>\n",
       "    </tr>\n",
       "  </thead>\n",
       "  <tbody>\n",
       "    <tr>\n",
       "      <th>0</th>\n",
       "      <td>11312</td>\n",
       "      <td>41729201</td>\n",
       "      <td>0</td>\n",
       "      <td>13548</td>\n",
       "      <td>맞았습니다!!</td>\n",
       "      <td>6032.0</td>\n",
       "      <td>280.0</td>\n",
       "      <td>C++17</td>\n",
       "      <td>1060.0</td>\n",
       "      <td>1649476228</td>\n",
       "      <td>0-11312</td>\n",
       "    </tr>\n",
       "    <tr>\n",
       "      <th>1</th>\n",
       "      <td>11312</td>\n",
       "      <td>41745912</td>\n",
       "      <td>0</td>\n",
       "      <td>12999</td>\n",
       "      <td>맞았습니다!!</td>\n",
       "      <td>6420.0</td>\n",
       "      <td>312.0</td>\n",
       "      <td>C++17</td>\n",
       "      <td>1083.0</td>\n",
       "      <td>1649501981</td>\n",
       "      <td>0-11312</td>\n",
       "    </tr>\n",
       "    <tr>\n",
       "      <th>2</th>\n",
       "      <td>11312</td>\n",
       "      <td>41746014</td>\n",
       "      <td>0</td>\n",
       "      <td>12986</td>\n",
       "      <td>맞았습니다!!</td>\n",
       "      <td>6420.0</td>\n",
       "      <td>192.0</td>\n",
       "      <td>C++17</td>\n",
       "      <td>1083.0</td>\n",
       "      <td>1649502114</td>\n",
       "      <td>0-11312</td>\n",
       "    </tr>\n",
       "    <tr>\n",
       "      <th>3</th>\n",
       "      <td>11312</td>\n",
       "      <td>41764127</td>\n",
       "      <td>0</td>\n",
       "      <td>15576</td>\n",
       "      <td>맞았습니다!!</td>\n",
       "      <td>44124.0</td>\n",
       "      <td>436.0</td>\n",
       "      <td>C++17</td>\n",
       "      <td>1583.0</td>\n",
       "      <td>1649552380</td>\n",
       "      <td>0-11312</td>\n",
       "    </tr>\n",
       "    <tr>\n",
       "      <th>4</th>\n",
       "      <td>11312</td>\n",
       "      <td>41816779</td>\n",
       "      <td>0</td>\n",
       "      <td>2783</td>\n",
       "      <td>맞았습니다!!</td>\n",
       "      <td>2020.0</td>\n",
       "      <td>0.0</td>\n",
       "      <td>C++17</td>\n",
       "      <td>284.0</td>\n",
       "      <td>1649660399</td>\n",
       "      <td>0-11312</td>\n",
       "    </tr>\n",
       "    <tr>\n",
       "      <th>...</th>\n",
       "      <td>...</td>\n",
       "      <td>...</td>\n",
       "      <td>...</td>\n",
       "      <td>...</td>\n",
       "      <td>...</td>\n",
       "      <td>...</td>\n",
       "      <td>...</td>\n",
       "      <td>...</td>\n",
       "      <td>...</td>\n",
       "      <td>...</td>\n",
       "      <td>...</td>\n",
       "    </tr>\n",
       "    <tr>\n",
       "      <th>2249855</th>\n",
       "      <td>23307</td>\n",
       "      <td>34881902</td>\n",
       "      <td>한의엽</td>\n",
       "      <td>20124</td>\n",
       "      <td>맞았습니다!!</td>\n",
       "      <td>7904.0</td>\n",
       "      <td>60.0</td>\n",
       "      <td>C++17</td>\n",
       "      <td>397.0</td>\n",
       "      <td>1635513231</td>\n",
       "      <td>한의엽-23307</td>\n",
       "    </tr>\n",
       "    <tr>\n",
       "      <th>2249856</th>\n",
       "      <td>23307</td>\n",
       "      <td>34882197</td>\n",
       "      <td>한의엽</td>\n",
       "      <td>20127</td>\n",
       "      <td>맞았습니다!!</td>\n",
       "      <td>2256.0</td>\n",
       "      <td>12.0</td>\n",
       "      <td>C++17</td>\n",
       "      <td>1015.0</td>\n",
       "      <td>1635513725</td>\n",
       "      <td>한의엽-23307</td>\n",
       "    </tr>\n",
       "    <tr>\n",
       "      <th>2249857</th>\n",
       "      <td>23307</td>\n",
       "      <td>34882210</td>\n",
       "      <td>한의엽</td>\n",
       "      <td>20929</td>\n",
       "      <td>맞았습니다!!</td>\n",
       "      <td>29432.0</td>\n",
       "      <td>228.0</td>\n",
       "      <td>C++17</td>\n",
       "      <td>1364.0</td>\n",
       "      <td>1635513759</td>\n",
       "      <td>한의엽-23307</td>\n",
       "    </tr>\n",
       "    <tr>\n",
       "      <th>2249858</th>\n",
       "      <td>17494</td>\n",
       "      <td>15381657</td>\n",
       "      <td>황산해</td>\n",
       "      <td>17492</td>\n",
       "      <td>100점</td>\n",
       "      <td>1116.0</td>\n",
       "      <td>0.0</td>\n",
       "      <td>C++14</td>\n",
       "      <td>748.0</td>\n",
       "      <td>1569652849</td>\n",
       "      <td>황산해-17494</td>\n",
       "    </tr>\n",
       "    <tr>\n",
       "      <th>2249859</th>\n",
       "      <td>17494</td>\n",
       "      <td>15381657</td>\n",
       "      <td>황산해</td>\n",
       "      <td>17492</td>\n",
       "      <td>100점</td>\n",
       "      <td>1116.0</td>\n",
       "      <td>0.0</td>\n",
       "      <td>C++14</td>\n",
       "      <td>748.0</td>\n",
       "      <td>1569652849</td>\n",
       "      <td>황산해-17494</td>\n",
       "    </tr>\n",
       "  </tbody>\n",
       "</table>\n",
       "<p>2249860 rows × 11 columns</p>\n",
       "</div>"
      ],
      "text/plain": [
       "        target  score_id user_name problem_id   answer   memory   time  \\\n",
       "0        11312  41729201         0      13548  맞았습니다!!   6032.0  280.0   \n",
       "1        11312  41745912         0      12999  맞았습니다!!   6420.0  312.0   \n",
       "2        11312  41746014         0      12986  맞았습니다!!   6420.0  192.0   \n",
       "3        11312  41764127         0      15576  맞았습니다!!  44124.0  436.0   \n",
       "4        11312  41816779         0       2783  맞았습니다!!   2020.0    0.0   \n",
       "...        ...       ...       ...        ...      ...      ...    ...   \n",
       "2249855  23307  34881902       한의엽      20124  맞았습니다!!   7904.0   60.0   \n",
       "2249856  23307  34882197       한의엽      20127  맞았습니다!!   2256.0   12.0   \n",
       "2249857  23307  34882210       한의엽      20929  맞았습니다!!  29432.0  228.0   \n",
       "2249858  17494  15381657       황산해      17492     100점   1116.0    0.0   \n",
       "2249859  17494  15381657       황산해      17492     100점   1116.0    0.0   \n",
       "\n",
       "        language  length        date        key  \n",
       "0          C++17  1060.0  1649476228    0-11312  \n",
       "1          C++17  1083.0  1649501981    0-11312  \n",
       "2          C++17  1083.0  1649502114    0-11312  \n",
       "3          C++17  1583.0  1649552380    0-11312  \n",
       "4          C++17   284.0  1649660399    0-11312  \n",
       "...          ...     ...         ...        ...  \n",
       "2249855    C++17   397.0  1635513231  한의엽-23307  \n",
       "2249856    C++17  1015.0  1635513725  한의엽-23307  \n",
       "2249857    C++17  1364.0  1635513759  한의엽-23307  \n",
       "2249858    C++14   748.0  1569652849  황산해-17494  \n",
       "2249859    C++14   748.0  1569652849  황산해-17494  \n",
       "\n",
       "[2249860 rows x 11 columns]"
      ]
     },
     "execution_count": 33,
     "metadata": {},
     "output_type": "execute_result"
    }
   ],
   "source": [
    "in_problem_df_target_score_df"
   ]
  },
  {
   "cell_type": "code",
   "execution_count": 32,
   "metadata": {},
   "outputs": [
    {
     "data": {
      "text/plain": [
       "1984978"
      ]
     },
     "execution_count": 32,
     "metadata": {},
     "output_type": "execute_result"
    }
   ],
   "source": [
    "len(in_problem_df_problem_id_score_df)"
   ]
  },
  {
   "cell_type": "code",
   "execution_count": 22,
   "metadata": {},
   "outputs": [
    {
     "data": {
      "text/plain": [
       "True"
      ]
     },
     "execution_count": 22,
     "metadata": {},
     "output_type": "execute_result"
    }
   ],
   "source": [
    "in_problem_df_problem_id_score_df['problem_id'].nunique() == len(korean_problem_df)"
   ]
  },
  {
   "cell_type": "code",
   "execution_count": 23,
   "metadata": {},
   "outputs": [],
   "source": [
    "korean_problem_df.to_csv(os.path.join(DATA_PATH, 'clean_problem.csv'), index = False)\n",
    "in_problem_df_problem_id_score_df.to_csv(os.path.join(DATA_PATH, 'clean_score.csv'), index = False)"
   ]
  }
 ],
 "metadata": {
  "interpreter": {
   "hash": "d4d1e4263499bec80672ea0156c357c1ee493ec2b1c70f0acce89fc37c4a6abe"
  },
  "kernelspec": {
   "display_name": "Python 3.8.5 ('base')",
   "language": "python",
   "name": "python3"
  },
  "language_info": {
   "codemirror_mode": {
    "name": "ipython",
    "version": 3
   },
   "file_extension": ".py",
   "mimetype": "text/x-python",
   "name": "python",
   "nbconvert_exporter": "python",
   "pygments_lexer": "ipython3",
   "version": "3.8.5"
  },
  "orig_nbformat": 4
 },
 "nbformat": 4,
 "nbformat_minor": 2
}
