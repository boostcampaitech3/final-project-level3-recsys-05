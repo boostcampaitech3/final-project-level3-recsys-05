{
 "cells": [
  {
   "cell_type": "code",
   "execution_count": null,
   "metadata": {},
   "outputs": [],
   "source": [
    "import requests\n",
    "from tqdm import tqdm\n",
    "\n",
    "page_number = 1\n",
    "headers = {\"Content-Type\": \"application/json\"}\n",
    "user_df = []\n",
    "\n",
    "while True:\n",
    "    url = f\"https://solved.ac/api/v3/ranking/tier?page={page_number}\"\n",
    "    response = requests.request(\"GET\", url, headers=headers)\n",
    "    response = response.json()\n",
    "    page_number += 1\n",
    "    if response['items']: user_df.extend(response['items'])\n",
    "    else: break"
   ]
  },
  {
   "cell_type": "code",
   "execution_count": 21,
   "metadata": {},
   "outputs": [],
   "source": [
    "import pandas as pd\n",
    "\n",
    "ret_user_df = pd.DataFrame(user_df)"
   ]
  },
  {
   "cell_type": "code",
   "execution_count": 23,
   "metadata": {},
   "outputs": [],
   "source": [
    "ret_user_df.to_csv('user-meta.csv', index = False)"
   ]
  }
 ],
 "metadata": {
  "interpreter": {
   "hash": "d4d1e4263499bec80672ea0156c357c1ee493ec2b1c70f0acce89fc37c4a6abe"
  },
  "kernelspec": {
   "display_name": "Python 3.8.5 ('base')",
   "language": "python",
   "name": "python3"
  },
  "language_info": {
   "codemirror_mode": {
    "name": "ipython",
    "version": 3
   },
   "file_extension": ".py",
   "mimetype": "text/x-python",
   "name": "python",
   "nbconvert_exporter": "python",
   "pygments_lexer": "ipython3",
   "version": "3.8.5"
  },
  "orig_nbformat": 4
 },
 "nbformat": 4,
 "nbformat_minor": 2
}
