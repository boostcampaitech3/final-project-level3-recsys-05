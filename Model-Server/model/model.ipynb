{
 "cells": [
  {
   "cell_type": "code",
   "execution_count": 7,
   "metadata": {},
   "outputs": [],
   "source": [
    "from gensim.models import Word2Vec\n",
    "\n",
    "model = Word2Vec.load('/opt/ml/final-project-level3-recsys-05/Model/model/Word2Vec_problem_seq.model')"
   ]
  },
  {
   "cell_type": "code",
   "execution_count": 8,
   "metadata": {},
   "outputs": [],
   "source": [
    "import json\n",
    "\n",
    "with open('/opt/ml/final-project-level3-recsys-05/Model-Server/preprocessing/idx2problem_id.json', 'r', encoding = 'utf-8') as f:\n",
    "    idx2problem_id = json.load(f)"
   ]
  },
  {
   "cell_type": "code",
   "execution_count": 13,
   "metadata": {},
   "outputs": [],
   "source": [
    "from sklearn.metrics.pairwise import cosine_similarity\n",
    "\n",
    "cos_arr = cosine_similarity(model.wv[idx2problem_id[str(0)]].reshape(1, -1), model.wv.vectors)"
   ]
  },
  {
   "cell_type": "code",
   "execution_count": 18,
   "metadata": {},
   "outputs": [
    {
     "data": {
      "text/plain": [
       "'1000'"
      ]
     },
     "execution_count": 18,
     "metadata": {},
     "output_type": "execute_result"
    }
   ],
   "source": [
    "idx2problem_id[str(0)]"
   ]
  },
  {
   "cell_type": "code",
   "execution_count": 23,
   "metadata": {},
   "outputs": [],
   "source": [
    "import numpy as np\n",
    "\n",
    "cos_arr[0][[]] = -np.Inf"
   ]
  },
  {
   "cell_type": "code",
   "execution_count": 27,
   "metadata": {},
   "outputs": [
    {
     "data": {
      "text/plain": [
       "array([  14,   15,   13, ..., 5694,    2,    1])"
      ]
     },
     "execution_count": 27,
     "metadata": {},
     "output_type": "execute_result"
    }
   ],
   "source": [
    "cos_arr[0].argsort()[::-1]"
   ]
  },
  {
   "cell_type": "code",
   "execution_count": 6,
   "metadata": {},
   "outputs": [
    {
     "data": {
      "text/plain": [
       "array([[  9.442564  ,   6.1182923 , -13.848613  , ...,  -7.0346665 ,\n",
       "        -13.085071  ,  -2.7274015 ],\n",
       "       [  1.0528833 ,  -5.2813773 ,  10.474838  , ...,  -1.8645121 ,\n",
       "          2.9223452 ,  -0.04743621],\n",
       "       [ 10.072336  ,   5.535829  ,  -9.239881  , ...,   8.40213   ,\n",
       "         -6.401096  ,  -2.4395783 ],\n",
       "       ...,\n",
       "       [  1.2793522 ,   0.59176975,  -1.2249864 , ...,   0.4963952 ,\n",
       "          0.7405166 ,  -0.5729225 ],\n",
       "       [  1.3066258 ,   0.62474245,  -1.2161082 , ...,   0.5769078 ,\n",
       "          0.78231853,  -0.57357925],\n",
       "       [  1.2657579 ,   0.6059845 ,  -1.2080239 , ...,   0.6005525 ,\n",
       "          0.7685919 ,  -0.5922398 ]], dtype=float32)"
      ]
     },
     "execution_count": 6,
     "metadata": {},
     "output_type": "execute_result"
    }
   ],
   "source": [
    "model.wv.vectors"
   ]
  },
  {
   "cell_type": "code",
   "execution_count": null,
   "metadata": {},
   "outputs": [],
   "source": []
  }
 ],
 "metadata": {
  "interpreter": {
   "hash": "d4d1e4263499bec80672ea0156c357c1ee493ec2b1c70f0acce89fc37c4a6abe"
  },
  "kernelspec": {
   "display_name": "Python 3.8.5 ('base')",
   "language": "python",
   "name": "python3"
  },
  "language_info": {
   "codemirror_mode": {
    "name": "ipython",
    "version": 3
   },
   "file_extension": ".py",
   "mimetype": "text/x-python",
   "name": "python",
   "nbconvert_exporter": "python",
   "pygments_lexer": "ipython3",
   "version": "3.8.5"
  },
  "orig_nbformat": 4,
  "vscode": {
   "interpreter": {
    "hash": "d4d1e4263499bec80672ea0156c357c1ee493ec2b1c70f0acce89fc37c4a6abe"
   }
  }
 },
 "nbformat": 4,
 "nbformat_minor": 2
}
