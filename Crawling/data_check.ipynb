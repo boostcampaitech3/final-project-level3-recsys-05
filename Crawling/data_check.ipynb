{
 "cells": [
  {
   "cell_type": "code",
   "execution_count": null,
   "metadata": {},
   "outputs": [],
   "source": [
    "import requests\n",
    "import pandas as pd\n",
    "from tqdm import tqdm\n",
    "import time\n",
    "\n",
    "check_df = []\n",
    "\n",
    "headers = {'User-Agent': \"Mediapartners-Google\"}\n",
    "\n",
    "check_list = pd.read_csv('check_list_raw.txt', sep = ',').columns.tolist()\n",
    "check_list = [int(check) for check in check_list]\n",
    "\n",
    "for check in tqdm(check_list):\n",
    "    url = f'https://www.acmicpc.net/problem/{check}'\n",
    "    response = requests.request(\"GET\", url, headers=headers)\n",
    "    if response.status_code == 404:\n",
    "        check_df.append({\n",
    "            'check_id' : check,\n",
    "            'check' : 0\n",
    "        })\n",
    "\n",
    "    elif response.status_code == 200:\n",
    "        check_df.append({\n",
    "            'check_id' : check,\n",
    "            'check' : 1\n",
    "        })\n",
    "\n",
    "    while True:\n",
    "        url = f'https://www.acmicpc.net/problem/{4296}'\n",
    "        response = requests.request(\"GET\", url, headers=headers)\n",
    "        if response.status_code == 200: break\n",
    "        else:\n",
    "            print('ip 차단 중') \n",
    "            time.sleep(3)\n",
    "\n",
    "check_df = pd.DataFrame(check_df)"
   ]
  },
  {
   "cell_type": "code",
   "execution_count": null,
   "metadata": {},
   "outputs": [],
   "source": [
    "check_df.to_csv('check_list_df.csv', index = False)"
   ]
  }
 ],
 "metadata": {
  "language_info": {
   "name": "python"
  },
  "orig_nbformat": 4
 },
 "nbformat": 4,
 "nbformat_minor": 2
}
